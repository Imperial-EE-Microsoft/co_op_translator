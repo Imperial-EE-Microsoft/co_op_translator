{
 "cells": [
  {
   "cell_type": "markdown",
   "metadata": {},
   "source": [
    "> NOTE\n",
    ">\n",
    "> This notebook is currently based on the modularized source code from the GitHub repository, rather than the distributed Python library. Once the library is officially released, it will be updated to use the published version of the model."
   ]
  },
  {
   "cell_type": "markdown",
   "metadata": {},
   "source": [
    "# Load environment variables"
   ]
  },
  {
   "cell_type": "code",
   "execution_count": 1,
   "metadata": {},
   "outputs": [],
   "source": [
    "# Load environment variables\n",
    "import os\n",
    "from dotenv import load_dotenv\n",
    "\n",
    "load_dotenv()\n",
    "\n",
    "# Azure Credentials\n",
    "subscription_key = os.getenv(\"AZURE_SUBSCRIPTION_KEY\")\n",
    "endpoint = os.getenv(\"AZURE_AI_SERVICE_ENDPOINT\")\n",
    "\n",
    "# OpenAI Credentials\n",
    "api_base = os.getenv(\"AZURE_OPENAI_ENDPOINT\")\n",
    "api_key = os.getenv(\"AZURE_OPENAI_API_KEY\")\n",
    "deployment_name = os.getenv(\"AZURE_OPENAI_CHAT_DEPLOYMENT_NAME\")\n",
    "api_version = os.getenv(\"AZURE_OPENAI_API_VERSION\")"
   ]
  },
  {
   "cell_type": "markdown",
   "metadata": {},
   "source": [
    "# Translate images"
   ]
  },
  {
   "cell_type": "code",
   "execution_count": 2,
   "metadata": {},
   "outputs": [
    {
     "name": "stdout",
     "output_type": "stream",
     "text": [
      "Font loaded successfully.\n",
      "Translated image saved at: <PIL.Image.Image image mode=RGBA size=1284x1268 at 0x2375A4762F0>\n",
      "Font loaded successfully.\n",
      "Translated image saved at: <PIL.Image.Image image mode=RGBA size=968x412 at 0x2375A4EF5E0>\n",
      "Font loaded successfully.\n",
      "Translated image saved at: <PIL.Image.Image image mode=RGBA size=2481x1749 at 0x2375A5CEEF0>\n"
     ]
    }
   ],
   "source": [
    "# Import necessary classes from the modularized project\n",
    "from src.translators.image_translator import ImageTranslator\n",
    "\n",
    "# Initialize the ImageTranslator\n",
    "image_translator = ImageTranslator()\n",
    "\n",
    "# Paths to the images to be translated\n",
    "image_path1 = \"../data/images/bicycle.png\"\n",
    "image_path2 = \"../data/images/korean.png\"\n",
    "image_path3 = \"../data/images/microsoft1.png\"\n",
    "\n",
    "# Example usage of the translate_image method\n",
    "translated_image_path1 = image_translator.translate_image(image_path1, \"ko\")\n",
    "print(f\"Translated image saved at: {translated_image_path1}\")\n",
    "\n",
    "translated_image_path2 = image_translator.translate_image(image_path2, \"ja\")\n",
    "print(f\"Translated image saved at: {translated_image_path2}\")\n",
    "\n",
    "translated_image_path3 = image_translator.translate_image(image_path3, \"es\")\n",
    "print(f\"Translated image saved at: {translated_image_path3}\")\n"
   ]
  },
  {
   "cell_type": "markdown",
   "metadata": {},
   "source": [
    "# Compare original and translated images"
   ]
  },
  {
   "cell_type": "code",
   "execution_count": 3,
   "metadata": {},
   "outputs": [
    {
     "ename": "AttributeError",
     "evalue": "'Image' object has no attribute 'read'",
     "output_type": "error",
     "traceback": [
      "\u001b[1;31m---------------------------------------------------------------------------\u001b[0m",
      "\u001b[1;31mAttributeError\u001b[0m                            Traceback (most recent call last)",
      "Cell \u001b[1;32mIn[3], line 4\u001b[0m\n\u001b[0;32m      1\u001b[0m \u001b[38;5;28;01mfrom\u001b[39;00m \u001b[38;5;21;01msrc\u001b[39;00m\u001b[38;5;21;01m.\u001b[39;00m\u001b[38;5;21;01mutils\u001b[39;00m\u001b[38;5;21;01m.\u001b[39;00m\u001b[38;5;21;01mimage_utils\u001b[39;00m \u001b[38;5;28;01mimport\u001b[39;00m display_image\n\u001b[0;32m      3\u001b[0m \u001b[38;5;66;03m# Display the original image and the translated image\u001b[39;00m\n\u001b[1;32m----> 4\u001b[0m \u001b[43mdisplay_image\u001b[49m\u001b[43m(\u001b[49m\u001b[43mimage_path1\u001b[49m\u001b[43m,\u001b[49m\u001b[43mtranslated_image_path1\u001b[49m\u001b[43m)\u001b[49m\n\u001b[0;32m      5\u001b[0m display_image(image_path2,translated_image_path2)\n\u001b[0;32m      6\u001b[0m display_image(image_path3,translated_image_path3)\n",
      "File \u001b[1;32mc:\\users\\sms79\\dev\\microsoft_translation_public\\src\\utils\\image_utils.py:198\u001b[0m, in \u001b[0;36mdisplay_image\u001b[1;34m(image_path, annotated_image_path)\u001b[0m\n\u001b[0;32m    195\u001b[0m plt\u001b[38;5;241m.\u001b[39mfigure(figsize\u001b[38;5;241m=\u001b[39m(\u001b[38;5;241m20\u001b[39m, \u001b[38;5;241m10\u001b[39m))\n\u001b[0;32m    197\u001b[0m \u001b[38;5;66;03m# Display the annotated image\u001b[39;00m\n\u001b[1;32m--> 198\u001b[0m annotated_image \u001b[38;5;241m=\u001b[39m \u001b[43mImage\u001b[49m\u001b[38;5;241;43m.\u001b[39;49m\u001b[43mopen\u001b[49m\u001b[43m(\u001b[49m\u001b[43mannotated_image_path\u001b[49m\u001b[43m)\u001b[49m\n\u001b[0;32m    199\u001b[0m plt\u001b[38;5;241m.\u001b[39msubplot(\u001b[38;5;241m1\u001b[39m, \u001b[38;5;241m2\u001b[39m, \u001b[38;5;241m1\u001b[39m)\n\u001b[0;32m    200\u001b[0m plt\u001b[38;5;241m.\u001b[39mimshow(annotated_image)\n",
      "File \u001b[1;32mc:\\Users\\sms79\\dev\\microsoft_translation_public\\.venv\\lib\\site-packages\\PIL\\Image.py:3286\u001b[0m, in \u001b[0;36mopen\u001b[1;34m(fp, mode, formats)\u001b[0m\n\u001b[0;32m   3283\u001b[0m     fp \u001b[38;5;241m=\u001b[39m io\u001b[38;5;241m.\u001b[39mBytesIO(fp\u001b[38;5;241m.\u001b[39mread())\n\u001b[0;32m   3284\u001b[0m     exclusive_fp \u001b[38;5;241m=\u001b[39m \u001b[38;5;28;01mTrue\u001b[39;00m\n\u001b[1;32m-> 3286\u001b[0m prefix \u001b[38;5;241m=\u001b[39m \u001b[43mfp\u001b[49m\u001b[38;5;241;43m.\u001b[39;49m\u001b[43mread\u001b[49m(\u001b[38;5;241m16\u001b[39m)\n\u001b[0;32m   3288\u001b[0m preinit()\n\u001b[0;32m   3290\u001b[0m accept_warnings \u001b[38;5;241m=\u001b[39m []\n",
      "\u001b[1;31mAttributeError\u001b[0m: 'Image' object has no attribute 'read'"
     ]
    },
    {
     "data": {
      "text/plain": [
       "<Figure size 2000x1000 with 0 Axes>"
      ]
     },
     "metadata": {},
     "output_type": "display_data"
    }
   ],
   "source": [
    "from src.utils.image_utils import display_image\n",
    "\n",
    "# Display the original image and the translated image\n",
    "display_image(image_path1,translated_image_path1)\n",
    "display_image(image_path2,translated_image_path2)\n",
    "display_image(image_path3,translated_image_path3)"
   ]
  },
  {
   "cell_type": "markdown",
   "metadata": {},
   "source": [
    "# Image Analysis"
   ]
  },
  {
   "cell_type": "code",
   "execution_count": 1,
   "metadata": {},
   "outputs": [
    {
     "ename": "ImportError",
     "evalue": "cannot import name 'ImageTranslator' from 'src.image_translator' (unknown location)",
     "output_type": "error",
     "traceback": [
      "\u001b[1;31m---------------------------------------------------------------------------\u001b[0m",
      "\u001b[1;31mImportError\u001b[0m                               Traceback (most recent call last)",
      "Cell \u001b[1;32mIn[1], line 1\u001b[0m\n\u001b[1;32m----> 1\u001b[0m \u001b[38;5;28;01mfrom\u001b[39;00m \u001b[38;5;21;01msrc\u001b[39;00m\u001b[38;5;21;01m.\u001b[39;00m\u001b[38;5;21;01mtranslators\u001b[39;00m\u001b[38;5;21;01m.\u001b[39;00m\u001b[38;5;21;01mimage_analyzer\u001b[39;00m \u001b[38;5;28;01mimport\u001b[39;00m ImageAnalyzer\n\u001b[0;32m      3\u001b[0m image_analyzer \u001b[38;5;241m=\u001b[39m ImageAnalyzer()\n\u001b[0;32m      5\u001b[0m image_analyzer\u001b[38;5;241m.\u001b[39manalyze_image([image_path1])\n",
      "File \u001b[1;32mc:\\users\\sms79\\dev\\microsoft_translation_public\\src\\translators\\image_analyzer.py:2\u001b[0m\n\u001b[0;32m      1\u001b[0m \u001b[38;5;28;01mimport\u001b[39;00m \u001b[38;5;21;01mos\u001b[39;00m\n\u001b[1;32m----> 2\u001b[0m \u001b[38;5;28;01mfrom\u001b[39;00m \u001b[38;5;21;01msrc\u001b[39;00m\u001b[38;5;21;01m.\u001b[39;00m\u001b[38;5;21;01mimage_translator\u001b[39;00m \u001b[38;5;28;01mimport\u001b[39;00m ImageTranslator\n\u001b[0;32m      4\u001b[0m \u001b[38;5;28;01mclass\u001b[39;00m \u001b[38;5;21;01mImageAnalyzer\u001b[39;00m:\n\u001b[0;32m      5\u001b[0m     \u001b[38;5;28;01mdef\u001b[39;00m \u001b[38;5;21m__init__\u001b[39m(\u001b[38;5;28mself\u001b[39m, output_dir\u001b[38;5;241m=\u001b[39m\u001b[38;5;124m\"\u001b[39m\u001b[38;5;124m./bounding_boxes\u001b[39m\u001b[38;5;124m\"\u001b[39m):\n",
      "\u001b[1;31mImportError\u001b[0m: cannot import name 'ImageTranslator' from 'src.image_translator' (unknown location)"
     ]
    }
   ],
   "source": [
    "from src.translators.image_analyzer import ImageAnalyzer\n",
    "\n",
    "image_analyzer = ImageAnalyzer()\n",
    "\n",
    "image_analyzer.analyze_image([image_path1])"
   ]
  }
 ],
 "metadata": {
  "kernelspec": {
   "display_name": ".venv",
   "language": "python",
   "name": "python3"
  },
  "language_info": {
   "codemirror_mode": {
    "name": "ipython",
    "version": 3
   },
   "file_extension": ".py",
   "mimetype": "text/x-python",
   "name": "python",
   "nbconvert_exporter": "python",
   "pygments_lexer": "ipython3",
   "version": "3.10.6"
  }
 },
 "nbformat": 4,
 "nbformat_minor": 2
}
